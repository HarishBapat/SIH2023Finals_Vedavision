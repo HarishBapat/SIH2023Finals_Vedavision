{
 "cells": [
  {
   "cell_type": "code",
   "execution_count": null,
   "metadata": {
    "execution": {
     "iopub.execute_input": "2023-12-19T18:27:13.317667Z",
     "iopub.status.busy": "2023-12-19T18:27:13.317154Z",
     "iopub.status.idle": "2023-12-19T18:27:38.335351Z",
     "shell.execute_reply": "2023-12-19T18:27:38.334145Z",
     "shell.execute_reply.started": "2023-12-19T18:27:13.317634Z"
    },
    "trusted": true
   },
   "outputs": [],
   "source": [
    "import tensorflow as tf\n",
    "from tensorflow.keras.preprocessing.image import ImageDataGenerator\n",
    "from tensorflow.keras.layers import Dense, GlobalAveragePooling2D\n",
    "from tensorflow.keras.models import Model\n",
    "from tensorflow.keras.optimizers import Adam\n",
    "from sklearn.model_selection import train_test_split\n",
    "from tensorflow.keras.layers import Dense, GlobalAveragePooling2D, BatchNormalization\n",
    "from tensorflow.keras.callbacks import ReduceLROnPlateau, EarlyStopping, LearningRateScheduler\n",
    "from tensorflow.keras.regularizers import l2"
   ]
  },
  {
   "cell_type": "code",
   "execution_count": 3,
   "metadata": {
    "execution": {
     "iopub.execute_input": "2023-12-19T18:27:44.944102Z",
     "iopub.status.busy": "2023-12-19T18:27:44.942729Z",
     "iopub.status.idle": "2023-12-19T18:32:28.149740Z",
     "shell.execute_reply": "2023-12-19T18:32:28.148880Z",
     "shell.execute_reply.started": "2023-12-19T18:27:44.944048Z"
    },
    "trusted": true
   },
   "outputs": [],
   "source": [
    "from PIL import Image\n",
    "import os\n",
    "import random\n",
    "\n",
    "def augment_images(input_directory, output_directory, num_copies=2):\n",
    "    # Iterate through all subdirectories and their files\n",
    "    for root, _, files in os.walk(input_directory):\n",
    "        for image_file in files:\n",
    "            # Join the directory path with the image file\n",
    "            input_path = os.path.join(root, image_file)\n",
    "\n",
    "            # Open the image using Pillow\n",
    "            image = Image.open(input_path)\n",
    "\n",
    "            # Generate augmented copies\n",
    "            for i in range(num_copies):\n",
    "                # Apply random transformations (you can customize these)\n",
    "                rotated_image = image.rotate(random.uniform(-15, 15))\n",
    "                flipped_image = rotated_image.transpose(Image.FLIP_LEFT_RIGHT)\n",
    "\n",
    "                # Save the augmented image to the output directory\n",
    "                relative_path = os.path.relpath(input_path, input_directory)\n",
    "                output_filename = f'{os.path.splitext(relative_path)[0]}_{i}.png'\n",
    "                output_path = os.path.join(output_directory, output_filename)\n",
    "\n",
    "                # Create the subdirectories if they don't exist\n",
    "                os.makedirs(os.path.dirname(output_path), exist_ok=True)\n",
    "\n",
    "                flipped_image.save(output_path)\n",
    "\n",
    "# Set the path to your main directory containing subdirectories\n",
    "main_directory = '/kaggle/input/plants-dataset-sm/Plants_Dataset'\n",
    "output_directory = '/kaggle/working/output/images'\n",
    "\n",
    "# Call the function to augment images\n",
    "augment_images(main_directory, output_directory)"
   ]
  },
  {
   "cell_type": "code",
   "execution_count": 4,
   "metadata": {
    "execution": {
     "iopub.execute_input": "2023-12-19T18:32:59.037933Z",
     "iopub.status.busy": "2023-12-19T18:32:59.036937Z",
     "iopub.status.idle": "2023-12-19T18:32:59.042333Z",
     "shell.execute_reply": "2023-12-19T18:32:59.041480Z",
     "shell.execute_reply.started": "2023-12-19T18:32:59.037895Z"
    },
    "trusted": true
   },
   "outputs": [],
   "source": [
    "train_data_dir=\"/kaggle/working/output/images\""
   ]
  },
  {
   "cell_type": "code",
   "execution_count": 5,
   "metadata": {
    "execution": {
     "iopub.execute_input": "2023-12-19T18:33:21.276971Z",
     "iopub.status.busy": "2023-12-19T18:33:21.276575Z",
     "iopub.status.idle": "2023-12-19T18:33:21.281639Z",
     "shell.execute_reply": "2023-12-19T18:33:21.280515Z",
     "shell.execute_reply.started": "2023-12-19T18:33:21.276940Z"
    },
    "trusted": true
   },
   "outputs": [],
   "source": [
    "image_size = (224,224)\n",
    "batch_size = 4"
   ]
  },
  {
   "cell_type": "code",
   "execution_count": 6,
   "metadata": {
    "execution": {
     "iopub.execute_input": "2023-12-19T18:33:23.076750Z",
     "iopub.status.busy": "2023-12-19T18:33:23.076276Z",
     "iopub.status.idle": "2023-12-19T18:33:23.082135Z",
     "shell.execute_reply": "2023-12-19T18:33:23.081156Z",
     "shell.execute_reply.started": "2023-12-19T18:33:23.076713Z"
    },
    "trusted": true
   },
   "outputs": [],
   "source": [
    "train_datagen = ImageDataGenerator(\n",
    "    rescale=1.0 / 255,\n",
    "    shear_range=0.2,\n",
    "    rotation_range=15,\n",
    "    width_shift_range=0.1,\n",
    "    height_shift_range=0.1,\n",
    "    zoom_range=0.2,\n",
    "    horizontal_flip=True,\n",
    "    validation_split=0.20,\n",
    "   \n",
    ")"
   ]
  },
  {
   "cell_type": "code",
   "execution_count": 7,
   "metadata": {
    "execution": {
     "iopub.execute_input": "2023-12-19T18:33:25.066775Z",
     "iopub.status.busy": "2023-12-19T18:33:25.066420Z",
     "iopub.status.idle": "2023-12-19T18:33:25.195725Z",
     "shell.execute_reply": "2023-12-19T18:33:25.194926Z",
     "shell.execute_reply.started": "2023-12-19T18:33:25.066750Z"
    },
    "trusted": true
   },
   "outputs": [
    {
     "name": "stdout",
     "output_type": "stream",
     "text": [
      "Found 3059 images belonging to 15 classes.\n"
     ]
    }
   ],
   "source": [
    "train_generator = train_datagen.flow_from_directory(\n",
    "    train_data_dir,\n",
    "    target_size=image_size,\n",
    "    batch_size=batch_size,\n",
    "    class_mode='categorical',\n",
    "    subset='training'  # Set to 'training' for the training set\n",
    ")"
   ]
  },
  {
   "cell_type": "code",
   "execution_count": 8,
   "metadata": {
    "execution": {
     "iopub.execute_input": "2023-12-19T18:33:29.117457Z",
     "iopub.status.busy": "2023-12-19T18:33:29.116527Z",
     "iopub.status.idle": "2023-12-19T18:33:29.192302Z",
     "shell.execute_reply": "2023-12-19T18:33:29.191325Z",
     "shell.execute_reply.started": "2023-12-19T18:33:29.117414Z"
    },
    "trusted": true
   },
   "outputs": [
    {
     "name": "stdout",
     "output_type": "stream",
     "text": [
      "Found 757 images belonging to 15 classes.\n"
     ]
    }
   ],
   "source": [
    "validation_generator = train_datagen.flow_from_directory(\n",
    "    train_data_dir,\n",
    "    target_size=image_size,\n",
    "    batch_size=batch_size,\n",
    "    class_mode='categorical',\n",
    "    subset='validation'  # Set to 'validation' for the validation set\n",
    ")"
   ]
  },
  {
   "cell_type": "code",
   "execution_count": null,
   "metadata": {
    "trusted": true
   },
   "outputs": [],
   "source": [
    "!zip -r dataset80.zip /kaggle/working/output/images\n",
    "from IPython.display import FileLink\n",
    "FileLink(r'dataset80.zip')"
   ]
  },
  {
   "cell_type": "code",
   "execution_count": 10,
   "metadata": {
    "execution": {
     "iopub.execute_input": "2023-12-19T18:34:03.887396Z",
     "iopub.status.busy": "2023-12-19T18:34:03.886675Z",
     "iopub.status.idle": "2023-12-19T18:34:09.640990Z",
     "shell.execute_reply": "2023-12-19T18:34:09.640193Z",
     "shell.execute_reply.started": "2023-12-19T18:34:03.887355Z"
    },
    "trusted": true
   },
   "outputs": [],
   "source": [
    "import tensorflow\n",
    "from tensorflow.keras.regularizers import l2\n",
    "from tensorflow.keras.callbacks import ReduceLROnPlateau, EarlyStopping\n",
    "from tensorflow.keras.layers import Dropout\n",
    "base_model = tensorflow.keras.applications.DenseNet201(weights='imagenet', include_top=False)\n",
    "\n",
    "# Add custom classification layers\n",
    "x = base_model.output\n",
    "x = GlobalAveragePooling2D()(x)\n",
    "x = Dense(1024, activation='relu', kernel_regularizer=l2(1e-5))(x) \n",
    "x = Dense(512, activation='relu', kernel_regularizer=l2(1e-5))(x)# Add L2 weight regularization\n",
    "predictions = Dense(15, activation='softmax')(x)"
   ]
  },
  {
   "cell_type": "code",
   "execution_count": 11,
   "metadata": {
    "execution": {
     "iopub.execute_input": "2023-12-19T18:34:13.761928Z",
     "iopub.status.busy": "2023-12-19T18:34:13.761530Z",
     "iopub.status.idle": "2023-12-19T20:11:37.353812Z",
     "shell.execute_reply": "2023-12-19T20:11:37.352988Z",
     "shell.execute_reply.started": "2023-12-19T18:34:13.761890Z"
    },
    "trusted": true
   },
   "outputs": [
    {
     "name": "stdout",
     "output_type": "stream",
     "text": [
      "Epoch 1/50\n",
      "764/764 [==============================] - 243s 159ms/step - loss: 1.3395 - accuracy: 0.6046 - val_loss: 1.1955 - val_accuracy: 0.7011 - lr: 7.0000e-05\n",
      "Epoch 2/50\n",
      "764/764 [==============================] - 115s 151ms/step - loss: 0.5770 - accuracy: 0.8337 - val_loss: 1.0616 - val_accuracy: 0.7288 - lr: 7.0000e-05\n",
      "Epoch 3/50\n",
      "764/764 [==============================] - 115s 150ms/step - loss: 0.4572 - accuracy: 0.8681 - val_loss: 1.2773 - val_accuracy: 0.7566 - lr: 7.0000e-05\n",
      "Epoch 4/50\n",
      "764/764 [==============================] - 115s 150ms/step - loss: 0.3623 - accuracy: 0.8975 - val_loss: 1.4114 - val_accuracy: 0.7447 - lr: 7.0000e-05\n",
      "Epoch 5/50\n",
      "764/764 [==============================] - 115s 151ms/step - loss: 0.3248 - accuracy: 0.9044 - val_loss: 1.1313 - val_accuracy: 0.8122 - lr: 7.0000e-05\n",
      "Epoch 6/50\n",
      "764/764 [==============================] - 115s 151ms/step - loss: 0.2607 - accuracy: 0.9264 - val_loss: 1.1627 - val_accuracy: 0.8188 - lr: 7.0000e-05\n",
      "Epoch 7/50\n",
      "764/764 [==============================] - 115s 151ms/step - loss: 0.2368 - accuracy: 0.9329 - val_loss: 1.1349 - val_accuracy: 0.7910 - lr: 7.0000e-05\n",
      "Epoch 8/50\n",
      "764/764 [==============================] - 115s 151ms/step - loss: 0.1643 - accuracy: 0.9578 - val_loss: 1.0196 - val_accuracy: 0.8241 - lr: 2.1000e-05\n",
      "Epoch 9/50\n",
      "764/764 [==============================] - 115s 150ms/step - loss: 0.0883 - accuracy: 0.9787 - val_loss: 0.8488 - val_accuracy: 0.8320 - lr: 2.1000e-05\n",
      "Epoch 10/50\n",
      "764/764 [==============================] - 115s 151ms/step - loss: 0.0833 - accuracy: 0.9791 - val_loss: 0.9839 - val_accuracy: 0.8347 - lr: 2.1000e-05\n",
      "Epoch 11/50\n",
      "764/764 [==============================] - 115s 150ms/step - loss: 0.0919 - accuracy: 0.9771 - val_loss: 0.9306 - val_accuracy: 0.8280 - lr: 2.1000e-05\n",
      "Epoch 12/50\n",
      "764/764 [==============================] - 116s 151ms/step - loss: 0.0782 - accuracy: 0.9804 - val_loss: 1.0898 - val_accuracy: 0.8347 - lr: 2.1000e-05\n",
      "Epoch 13/50\n",
      "764/764 [==============================] - 115s 151ms/step - loss: 0.0600 - accuracy: 0.9836 - val_loss: 1.0482 - val_accuracy: 0.8347 - lr: 2.1000e-05\n",
      "Epoch 14/50\n",
      "764/764 [==============================] - 115s 150ms/step - loss: 0.0672 - accuracy: 0.9827 - val_loss: 1.0390 - val_accuracy: 0.8320 - lr: 2.1000e-05\n",
      "Epoch 15/50\n",
      "764/764 [==============================] - 114s 150ms/step - loss: 0.0530 - accuracy: 0.9879 - val_loss: 1.0004 - val_accuracy: 0.8466 - lr: 6.3000e-06\n",
      "Epoch 16/50\n",
      "764/764 [==============================] - 115s 150ms/step - loss: 0.0352 - accuracy: 0.9935 - val_loss: 1.0855 - val_accuracy: 0.8280 - lr: 6.3000e-06\n",
      "Epoch 17/50\n",
      "764/764 [==============================] - 117s 153ms/step - loss: 0.0457 - accuracy: 0.9905 - val_loss: 1.1148 - val_accuracy: 0.8347 - lr: 6.3000e-06\n",
      "Epoch 18/50\n",
      "764/764 [==============================] - 115s 151ms/step - loss: 0.0361 - accuracy: 0.9951 - val_loss: 0.9931 - val_accuracy: 0.8479 - lr: 6.3000e-06\n",
      "Epoch 19/50\n",
      "764/764 [==============================] - 115s 151ms/step - loss: 0.0368 - accuracy: 0.9925 - val_loss: 1.0263 - val_accuracy: 0.8294 - lr: 6.3000e-06\n",
      "Epoch 20/50\n",
      "764/764 [==============================] - 115s 151ms/step - loss: 0.0352 - accuracy: 0.9935 - val_loss: 0.8923 - val_accuracy: 0.8466 - lr: 1.8900e-06\n",
      "Epoch 21/50\n",
      "764/764 [==============================] - 115s 150ms/step - loss: 0.0373 - accuracy: 0.9931 - val_loss: 0.9489 - val_accuracy: 0.8466 - lr: 1.8900e-06\n",
      "Epoch 22/50\n",
      "764/764 [==============================] - 115s 150ms/step - loss: 0.0309 - accuracy: 0.9951 - val_loss: 0.8398 - val_accuracy: 0.8505 - lr: 1.8900e-06\n",
      "Epoch 23/50\n",
      "764/764 [==============================] - 114s 149ms/step - loss: 0.0294 - accuracy: 0.9961 - val_loss: 0.8532 - val_accuracy: 0.8585 - lr: 1.8900e-06\n",
      "Epoch 24/50\n",
      "764/764 [==============================] - 113s 148ms/step - loss: 0.0280 - accuracy: 0.9954 - val_loss: 0.8524 - val_accuracy: 0.8505 - lr: 1.8900e-06\n",
      "Epoch 25/50\n",
      "764/764 [==============================] - 114s 149ms/step - loss: 0.0259 - accuracy: 0.9964 - val_loss: 0.8815 - val_accuracy: 0.8505 - lr: 1.8900e-06\n",
      "Epoch 26/50\n",
      "764/764 [==============================] - 115s 150ms/step - loss: 0.0298 - accuracy: 0.9948 - val_loss: 0.9019 - val_accuracy: 0.8386 - lr: 1.8900e-06\n",
      "Epoch 27/50\n",
      "764/764 [==============================] - 115s 151ms/step - loss: 0.0319 - accuracy: 0.9954 - val_loss: 0.9286 - val_accuracy: 0.8479 - lr: 1.8900e-06\n",
      "Epoch 28/50\n",
      "764/764 [==============================] - 115s 150ms/step - loss: 0.0280 - accuracy: 0.9961 - val_loss: 0.9249 - val_accuracy: 0.8360 - lr: 1.0000e-06\n",
      "Epoch 29/50\n",
      "764/764 [==============================] - 115s 150ms/step - loss: 0.0238 - accuracy: 0.9967 - val_loss: 0.8820 - val_accuracy: 0.8505 - lr: 1.0000e-06\n",
      "Epoch 30/50\n",
      "764/764 [==============================] - 115s 151ms/step - loss: 0.0267 - accuracy: 0.9961 - val_loss: 0.8783 - val_accuracy: 0.8426 - lr: 1.0000e-06\n",
      "Epoch 31/50\n",
      "764/764 [==============================] - 116s 151ms/step - loss: 0.0314 - accuracy: 0.9931 - val_loss: 0.8360 - val_accuracy: 0.8505 - lr: 1.0000e-06\n",
      "Epoch 32/50\n",
      "764/764 [==============================] - 115s 150ms/step - loss: 0.0380 - accuracy: 0.9931 - val_loss: 0.8755 - val_accuracy: 0.8439 - lr: 1.0000e-06\n",
      "Epoch 33/50\n",
      "764/764 [==============================] - 114s 149ms/step - loss: 0.0295 - accuracy: 0.9948 - val_loss: 0.9060 - val_accuracy: 0.8505 - lr: 1.0000e-06\n",
      "Epoch 34/50\n",
      "764/764 [==============================] - 115s 150ms/step - loss: 0.0310 - accuracy: 0.9948 - val_loss: 0.8727 - val_accuracy: 0.8492 - lr: 1.0000e-06\n",
      "Epoch 35/50\n",
      "764/764 [==============================] - 115s 151ms/step - loss: 0.0227 - accuracy: 0.9971 - val_loss: 0.8756 - val_accuracy: 0.8426 - lr: 1.0000e-06\n",
      "Epoch 36/50\n",
      "764/764 [==============================] - 115s 150ms/step - loss: 0.0228 - accuracy: 0.9967 - val_loss: 0.9420 - val_accuracy: 0.8386 - lr: 1.0000e-06\n",
      "Epoch 37/50\n",
      "764/764 [==============================] - 115s 150ms/step - loss: 0.0215 - accuracy: 0.9980 - val_loss: 0.9206 - val_accuracy: 0.8413 - lr: 1.0000e-06\n",
      "Epoch 38/50\n",
      "764/764 [==============================] - 115s 150ms/step - loss: 0.0258 - accuracy: 0.9954 - val_loss: 0.9003 - val_accuracy: 0.8426 - lr: 1.0000e-06\n",
      "Epoch 39/50\n",
      "764/764 [==============================] - 114s 149ms/step - loss: 0.0325 - accuracy: 0.9948 - val_loss: 0.9225 - val_accuracy: 0.8479 - lr: 1.0000e-06\n",
      "Epoch 40/50\n",
      "764/764 [==============================] - 115s 150ms/step - loss: 0.0293 - accuracy: 0.9951 - val_loss: 0.8000 - val_accuracy: 0.8571 - lr: 1.0000e-06\n",
      "Epoch 41/50\n",
      "764/764 [==============================] - 113s 148ms/step - loss: 0.0274 - accuracy: 0.9971 - val_loss: 0.8855 - val_accuracy: 0.8558 - lr: 1.0000e-06\n",
      "Epoch 42/50\n",
      "764/764 [==============================] - 112s 146ms/step - loss: 0.0188 - accuracy: 0.9980 - val_loss: 0.8172 - val_accuracy: 0.8545 - lr: 1.0000e-06\n",
      "Epoch 43/50\n",
      "764/764 [==============================] - 112s 146ms/step - loss: 0.0239 - accuracy: 0.9967 - val_loss: 0.8290 - val_accuracy: 0.8598 - lr: 1.0000e-06\n",
      "Epoch 44/50\n",
      "764/764 [==============================] - 112s 146ms/step - loss: 0.0254 - accuracy: 0.9964 - val_loss: 0.8566 - val_accuracy: 0.8452 - lr: 1.0000e-06\n",
      "Epoch 45/50\n",
      "764/764 [==============================] - 111s 146ms/step - loss: 0.0223 - accuracy: 0.9977 - val_loss: 0.8652 - val_accuracy: 0.8452 - lr: 1.0000e-06\n",
      "Epoch 46/50\n",
      "764/764 [==============================] - 109s 143ms/step - loss: 0.0265 - accuracy: 0.9957 - val_loss: 0.8611 - val_accuracy: 0.8505 - lr: 1.0000e-06\n",
      "Epoch 47/50\n",
      "764/764 [==============================] - 111s 146ms/step - loss: 0.0284 - accuracy: 0.9961 - val_loss: 0.9671 - val_accuracy: 0.8452 - lr: 1.0000e-06\n",
      "Epoch 48/50\n",
      "764/764 [==============================] - 116s 151ms/step - loss: 0.0260 - accuracy: 0.9961 - val_loss: 0.9452 - val_accuracy: 0.8373 - lr: 1.0000e-06\n",
      "Epoch 49/50\n",
      "764/764 [==============================] - 111s 145ms/step - loss: 0.0321 - accuracy: 0.9941 - val_loss: 0.9304 - val_accuracy: 0.8532 - lr: 1.0000e-06\n",
      "Epoch 50/50\n",
      "764/764 [==============================] - ETA: 0s - loss: 0.0228 - accuracy: 0.9977Restoring model weights from the end of the best epoch: 40.\n",
      "764/764 [==============================] - 111s 145ms/step - loss: 0.0228 - accuracy: 0.9977 - val_loss: 0.9071 - val_accuracy: 0.8558 - lr: 1.0000e-06\n",
      "Epoch 50: early stopping\n"
     ]
    }
   ],
   "source": [
    "model = tf.keras.Model(inputs=base_model.input, outputs=predictions)\n",
    "\n",
    "# Compile the Model\n",
    "model.compile(optimizer=Adam(learning_rate=7e-5), loss='categorical_crossentropy', metrics=['accuracy'])\n",
    "\n",
    "# Define learning rate schedule using ReduceLROnPlateau callback\n",
    "reduce_lr = ReduceLROnPlateau(monitor='val_loss', factor=0.3, patience=5, min_lr=1e-6)\n",
    "\n",
    "# Define early stopping callback\n",
    "early_stopping = EarlyStopping(monitor='val_loss', patience=10, restore_best_weights=True,verbose=1,mode='min',start_from_epoch=15)\n",
    "\n",
    "# Model Training\n",
    "epochs = 50\n",
    "\n",
    "\n",
    "H=model.fit(\n",
    "    train_generator,\n",
    "    steps_per_epoch=train_generator.samples // batch_size,\n",
    "    validation_data=validation_generator,\n",
    "    validation_steps=validation_generator.samples // batch_size,\n",
    "    epochs=epochs,\n",
    "    callbacks=[reduce_lr,early_stopping]\n",
    ")"
   ]
  },
  {
   "cell_type": "code",
   "execution_count": 12,
   "metadata": {
    "execution": {
     "iopub.execute_input": "2023-12-19T20:11:37.355623Z",
     "iopub.status.busy": "2023-12-19T20:11:37.355338Z",
     "iopub.status.idle": "2023-12-19T20:11:39.559664Z",
     "shell.execute_reply": "2023-12-19T20:11:39.558896Z",
     "shell.execute_reply.started": "2023-12-19T20:11:37.355599Z"
    },
    "trusted": true
   },
   "outputs": [
    {
     "name": "stderr",
     "output_type": "stream",
     "text": [
      "/opt/conda/lib/python3.10/site-packages/keras/src/engine/training.py:3000: UserWarning: You are saving your model as an HDF5 file via `model.save()`. This file format is considered legacy. We recommend using instead the native Keras format, e.g. `model.save('my_model.keras')`.\n",
      "  saving_api.save_model(\n"
     ]
    }
   ],
   "source": [
    "model.save('vedavision_densenetv5_sm.h5')"
   ]
  },
  {
   "cell_type": "code",
   "execution_count": 13,
   "metadata": {
    "execution": {
     "iopub.execute_input": "2023-12-19T20:11:39.562047Z",
     "iopub.status.busy": "2023-12-19T20:11:39.561673Z",
     "iopub.status.idle": "2023-12-19T20:11:39.569453Z",
     "shell.execute_reply": "2023-12-19T20:11:39.568580Z",
     "shell.execute_reply.started": "2023-12-19T20:11:39.562015Z"
    },
    "trusted": true
   },
   "outputs": [
    {
     "data": {
      "text/html": [
       "<a href='vedavision_densenetv5_sm.h5' target='_blank'>vedavision_densenetv5_sm.h5</a><br>"
      ],
      "text/plain": [
       "/kaggle/working/vedavision_densenetv5_sm.h5"
      ]
     },
     "execution_count": 13,
     "metadata": {},
     "output_type": "execute_result"
    }
   ],
   "source": [
    "from IPython.display import FileLink\n",
    "FileLink('vedavision_densenetv5_sm.h5')"
   ]
  },
  {
   "cell_type": "code",
   "execution_count": 14,
   "metadata": {
    "execution": {
     "iopub.execute_input": "2023-12-19T20:11:39.572199Z",
     "iopub.status.busy": "2023-12-19T20:11:39.571767Z",
     "iopub.status.idle": "2023-12-19T20:11:51.943708Z",
     "shell.execute_reply": "2023-12-19T20:11:51.942760Z",
     "shell.execute_reply.started": "2023-12-19T20:11:39.572167Z"
    },
    "trusted": true
   },
   "outputs": [
    {
     "data": {
      "text/html": [
       "<a href='vedavision_densenetv5_sm.zip' target='_blank'>vedavision_densenetv5_sm.zip</a><br>"
      ],
      "text/plain": [
       "/kaggle/working/vedavision_densenetv5_sm.zip"
      ]
     },
     "execution_count": 14,
     "metadata": {},
     "output_type": "execute_result"
    }
   ],
   "source": [
    "import zipfile\n",
    "with zipfile.ZipFile('vedavision_densenetv5_sm.zip', 'w', zipfile.ZIP_DEFLATED) as zipf:\n",
    "    zipf.write('vedavision_densenetv5_sm.h5', 'vedavision_densenetv5_sm.h5')\n",
    "FileLink('vedavision_densenetv5_sm.zip')"
   ]
  },
  {
   "cell_type": "code",
   "execution_count": 15,
   "metadata": {
    "execution": {
     "iopub.execute_input": "2023-12-19T20:11:51.945245Z",
     "iopub.status.busy": "2023-12-19T20:11:51.944909Z",
     "iopub.status.idle": "2023-12-19T20:11:51.949387Z",
     "shell.execute_reply": "2023-12-19T20:11:51.948495Z",
     "shell.execute_reply.started": "2023-12-19T20:11:51.945219Z"
    },
    "trusted": true
   },
   "outputs": [],
   "source": [
    "import matplotlib.pyplot as plt"
   ]
  },
  {
   "cell_type": "code",
   "execution_count": 16,
   "metadata": {
    "execution": {
     "iopub.execute_input": "2023-12-19T20:11:51.951111Z",
     "iopub.status.busy": "2023-12-19T20:11:51.950716Z",
     "iopub.status.idle": "2023-12-19T20:11:52.327877Z",
     "shell.execute_reply": "2023-12-19T20:11:52.327011Z",
     "shell.execute_reply.started": "2023-12-19T20:11:51.951078Z"
    },
    "trusted": true
   },
   "outputs": [
    {
     "data": {
      "text/plain": [
       "<matplotlib.legend.Legend at 0x7bbd6f19aaa0>"
      ]
     },
     "execution_count": 16,
     "metadata": {},
     "output_type": "execute_result"
    },
    {
     "data": {
      "image/png": "[encoded data removed]",
      "text/plain": [
       "<Figure size 640x480 with 1 Axes>"
      ]
     },
     "metadata": {},
     "output_type": "display_data"
    }
   ],
   "source": [
    "plt.plot(H.history['accuracy'])\n",
    "plt.plot(H.history['val_accuracy'])\n",
    "plt.title('Training and Validation Accuracy')\n",
    "plt.ylabel('Accuracy')\n",
    "plt.xlabel('Epoch')\n",
    "plt.legend(['Accuracy', 'Val_Accuracy'])"
   ]
  },
  {
   "cell_type": "code",
   "execution_count": 17,
   "metadata": {
    "execution": {
     "iopub.execute_input": "2023-12-19T20:11:52.330129Z",
     "iopub.status.busy": "2023-12-19T20:11:52.329430Z",
     "iopub.status.idle": "2023-12-19T20:11:52.604412Z",
     "shell.execute_reply": "2023-12-19T20:11:52.603426Z",
     "shell.execute_reply.started": "2023-12-19T20:11:52.330091Z"
    },
    "trusted": true
   },
   "outputs": [
    {
     "data": {
      "text/plain": [
       "<matplotlib.legend.Legend at 0x7bbd6f19a980>"
      ]
     },
     "execution_count": 17,
     "metadata": {},
     "output_type": "execute_result"
    },
    {
     "data": {
      "image/png": "[encoded data removed]",
      "text/plain": [
       "<Figure size 640x480 with 1 Axes>"
      ]
     },
     "metadata": {},
     "output_type": "display_data"
    }
   ],
   "source": [
    "plt.plot(H.history['loss'])\n",
    "plt.plot(H.history['val_loss'])#get the accuracy for the training set from the model's history attribute\n",
    "plt.title('Training and Validation Loss')\n",
    "plt.ylabel('Loss')\n",
    "plt.xlabel('Epoch')\n",
    "plt.legend(['Loss', 'Val_Loss'])"
   ]
  },
  {
   "cell_type": "code",
   "execution_count": 47,
   "metadata": {
    "execution": {
     "iopub.execute_input": "2023-12-19T21:20:56.493273Z",
     "iopub.status.busy": "2023-12-19T21:20:56.492441Z",
     "iopub.status.idle": "2023-12-19T21:21:08.798892Z",
     "shell.execute_reply": "2023-12-19T21:21:08.797946Z",
     "shell.execute_reply.started": "2023-12-19T21:20:56.493242Z"
    },
    "trusted": true
   },
   "outputs": [
    {
     "name": "stdout",
     "output_type": "stream",
     "text": [
      "1/1 [==============================] - 3s 3s/step\n",
      "Predicted Class: Shatavari\n",
      "Confidence: 0.999995231628418 \n"
     ]
    }
   ],
   "source": [
    "import tensorflow as tf\n",
    "import numpy as np\n",
    "from PIL import Image\n",
    "import requests\n",
    "from io import BytesIO\n",
    "\n",
    "# Load your pre-trained TensorFlow model\n",
    "model_path = '/kaggle/working/vedavision_densenetv5_sm.h5'\n",
    "model = tf.keras.models.load_model(model_path)\n",
    "\n",
    "# Define the image preprocessing function\n",
    "def preprocess_image(image_path, target_size):\n",
    "    response = requests.get(image_path)\n",
    "    img = Image.open(BytesIO(response.content))\n",
    "    img = img.resize(target_size)\n",
    "    img_array = np.array(img)\n",
    "    img_array = np.expand_dims(img_array, axis=0)\n",
    "    img_array = img_array / 255.0  # Normalize pixel values (assuming your model was trained with normalized data)\n",
    "    return img_array\n",
    "\n",
    "# URL of the downloaded image\n",
    "image_url = \"https://res.cloudinary.com/dxn2tkapb/image/upload/v1703020788/n1mddtl1tdziln7icbj3.jpg\"\n",
    "# Set the target image size to match your model's input size\n",
    "input_size = (224,224)  # Adjust based on your model's input size\n",
    "preprocessed_image = preprocess_image(image_url, target_size=input_size)\n",
    "predictions = model.predict(preprocessed_image)\n",
    "predicted_class_index = np.argmax(predictions)\n",
    "directory_path=\"/kaggle/working/output/images\"\n",
    "class_labels = class_names = sorted(os.listdir(directory_path))\n",
    "predicted_class_label = class_labels[predicted_class_index]\n",
    "\n",
    "# Print the predicted class label\n",
    "print(f\"Predicted Class: {predicted_class_label}\")\n",
    "max_index = np.argmax(predictions.flatten())\n",
    "\n",
    "# Get the maximum value\n",
    "max_value = predictions.flatten()[max_index]\n",
    "\n",
    "# Print the result\n",
    "print(f\"Confidence: {max_value} \")"
   ]
  },
  {
   "cell_type": "code",
   "execution_count": 20,
   "metadata": {
    "execution": {
     "iopub.execute_input": "2023-12-16T17:04:11.916979Z",
     "iopub.status.busy": "2023-12-16T17:04:11.916686Z",
     "iopub.status.idle": "2023-12-16T17:04:11.923981Z",
     "shell.execute_reply": "2023-12-16T17:04:11.923057Z",
     "shell.execute_reply.started": "2023-12-16T17:04:11.916952Z"
    },
    "trusted": true
   },
   "outputs": [
    {
     "data": {
      "text/plain": [
       "array([[4.40055612e-16, 1.11526032e-17, 1.15684676e-16, 1.13482511e-18,\n",
       "        2.66940079e-14, 7.11404168e-15, 2.04332934e-15, 3.66384666e-11,\n",
       "        2.39151337e-13, 1.30767903e-14, 1.29832310e-16, 3.87001942e-16,\n",
       "        1.06372541e-11, 1.00000000e+00, 8.12612863e-16, 6.41282080e-15,\n",
       "        4.03317245e-13, 6.36453672e-13, 2.67643955e-19, 2.85837283e-12,\n",
       "        6.11191046e-12, 1.01152469e-16, 8.01487710e-10, 4.27366470e-17,\n",
       "        3.83245657e-11, 5.03646976e-14, 5.72120061e-15, 9.10813161e-11,\n",
       "        4.78854898e-14, 6.04769878e-17, 8.27965300e-13, 1.74993781e-18,\n",
       "        5.94089851e-15, 1.27150647e-18, 5.14638584e-14, 2.40673353e-20,\n",
       "        2.81889194e-20, 7.88371548e-17, 2.35476417e-17, 4.43522254e-16,\n",
       "        3.11922530e-15, 1.47511842e-12, 8.74852220e-14, 8.81701907e-18,\n",
       "        3.06847585e-16, 5.15956554e-18, 6.33818790e-13, 7.13107721e-15,\n",
       "        6.30697859e-13, 2.29409634e-12, 1.53298074e-18, 3.93033757e-14,\n",
       "        3.22380310e-17, 1.09215566e-12, 6.92051498e-15, 5.73311418e-13,\n",
       "        4.47657541e-17, 1.90123872e-15, 2.40471076e-12, 1.43940692e-15,\n",
       "        4.44818675e-15, 1.57476911e-16, 8.73691730e-10, 1.31823695e-14,\n",
       "        6.71259652e-19, 1.60808779e-12, 1.57217257e-13, 1.16143662e-16,\n",
       "        8.60286101e-17, 1.39991220e-17, 1.02803870e-15, 6.42493549e-17,\n",
       "        3.73711045e-13, 2.38377924e-14, 7.85816354e-17, 2.53730440e-16,\n",
       "        8.33063935e-18, 1.02916577e-13, 8.13166103e-13, 8.87517480e-15,\n",
       "        8.27026161e-17, 1.26456885e-12, 5.23919070e-13, 2.07637713e-16,\n",
       "        1.92518320e-16, 1.72609529e-12, 4.88660454e-16, 3.11535025e-14,\n",
       "        6.59803683e-15, 5.63198915e-14, 1.78896797e-14, 4.90742848e-18,\n",
       "        1.03024117e-11, 1.59888040e-14, 2.89632223e-16, 4.95169737e-17,\n",
       "        1.66463894e-17, 7.81179722e-12]], dtype=float32)"
      ]
     },
     "execution_count": 20,
     "metadata": {},
     "output_type": "execute_result"
    }
   ],
   "source": [
    "predictions"
   ]
  },
  {
   "cell_type": "code",
   "execution_count": 21,
   "metadata": {
    "execution": {
     "iopub.execute_input": "2023-12-16T17:04:11.926085Z",
     "iopub.status.busy": "2023-12-16T17:04:11.925457Z",
     "iopub.status.idle": "2023-12-16T17:04:11.934984Z",
     "shell.execute_reply": "2023-12-16T17:04:11.934081Z",
     "shell.execute_reply.started": "2023-12-16T17:04:11.926050Z"
    },
    "trusted": true
   },
   "outputs": [
    {
     "data": {
      "text/plain": [
       "13"
      ]
     },
     "execution_count": 21,
     "metadata": {},
     "output_type": "execute_result"
    }
   ],
   "source": [
    "predicted_class_index"
   ]
  },
  {
   "cell_type": "code",
   "execution_count": 22,
   "metadata": {
    "execution": {
     "iopub.execute_input": "2023-12-16T17:04:11.936487Z",
     "iopub.status.busy": "2023-12-16T17:04:11.936189Z",
     "iopub.status.idle": "2023-12-16T17:04:11.945028Z",
     "shell.execute_reply": "2023-12-16T17:04:11.944019Z",
     "shell.execute_reply.started": "2023-12-16T17:04:11.936461Z"
    },
    "trusted": true
   },
   "outputs": [
    {
     "data": {
      "text/plain": [
       "'Bilva'"
      ]
     },
     "execution_count": 22,
     "metadata": {},
     "output_type": "execute_result"
    }
   ],
   "source": [
    "predicted_class_label"
   ]
  },
  {
   "cell_type": "code",
   "execution_count": 23,
   "metadata": {
    "execution": {
     "iopub.execute_input": "2023-12-16T17:04:11.946960Z",
     "iopub.status.busy": "2023-12-16T17:04:11.946542Z",
     "iopub.status.idle": "2023-12-16T17:04:11.957341Z",
     "shell.execute_reply": "2023-12-16T17:04:11.956420Z",
     "shell.execute_reply.started": "2023-12-16T17:04:11.946896Z"
    },
    "trusted": true
   },
   "outputs": [
    {
     "data": {
      "text/plain": [
       "['Aloevera',\n",
       " 'Amla',\n",
       " 'Amruthaballi',\n",
       " 'Arali',\n",
       " 'Ashoka',\n",
       " 'Ashwagandha',\n",
       " 'Astma_weed',\n",
       " 'Avacado',\n",
       " 'Balloon Vine',\n",
       " 'Bamboo',\n",
       " 'Beans',\n",
       " 'Betel',\n",
       " 'Betel Nut',\n",
       " 'Bilva',\n",
       " 'Bitter melon',\n",
       " 'Brhami',\n",
       " 'Brhingraj',\n",
       " 'Camphor',\n",
       " 'Cardamom',\n",
       " 'Caricature',\n",
       " 'Castor',\n",
       " 'Catharanthus',\n",
       " 'Chikku',\n",
       " 'Chilly',\n",
       " 'Cinnamon',\n",
       " 'Citron lime',\n",
       " 'Coffee',\n",
       " 'Common rue',\n",
       " 'Coriender',\n",
       " 'Cumin',\n",
       " 'Curry Leaf',\n",
       " 'Doddapatre',\n",
       " 'Drumstick',\n",
       " 'Ekka',\n",
       " 'Eucalyptus',\n",
       " 'Ganike',\n",
       " 'Gasagase',\n",
       " 'Geranium',\n",
       " 'Ginger',\n",
       " 'Globe Amarnath',\n",
       " 'Gotu kola',\n",
       " 'Guava',\n",
       " 'Guggul',\n",
       " 'Henna',\n",
       " 'Hibiscus',\n",
       " 'Honge',\n",
       " 'Jackfruit',\n",
       " 'Jamun',\n",
       " 'Jasmine',\n",
       " 'Jeevak',\n",
       " 'Kakoli',\n",
       " 'Kamakasturi',\n",
       " 'Kambajala',\n",
       " 'Kasamarda',\n",
       " 'Kesar',\n",
       " 'Kholrabi',\n",
       " 'Lantana',\n",
       " 'Lemangrass',\n",
       " 'Lemon',\n",
       " 'Licorice root',\n",
       " 'Malabar Nut',\n",
       " 'Malabar spinach',\n",
       " 'Mango',\n",
       " 'Marigold',\n",
       " 'Meda',\n",
       " 'Meswak',\n",
       " 'Mint',\n",
       " 'Neem',\n",
       " 'Nelavembu',\n",
       " 'Nooni',\n",
       " 'Onion',\n",
       " 'Palak',\n",
       " 'Papaya',\n",
       " 'Parijatha',\n",
       " 'Pea',\n",
       " 'Peepal',\n",
       " 'Pepper',\n",
       " 'Pomogranate',\n",
       " 'Pumpkin',\n",
       " 'Punarnava',\n",
       " 'Raddish',\n",
       " 'Raktachandan',\n",
       " 'Rishbhaka',\n",
       " 'Rose',\n",
       " 'Sampige',\n",
       " 'Sandalwood',\n",
       " 'Shatavari',\n",
       " 'Sitaphal',\n",
       " 'Tamarind',\n",
       " 'Taro',\n",
       " 'Tecoma',\n",
       " 'Tobacco',\n",
       " 'Tomato',\n",
       " 'Triphala',\n",
       " 'Tulsi',\n",
       " 'Tumbe',\n",
       " 'Turmeric',\n",
       " 'Varun']"
      ]
     },
     "execution_count": 23,
     "metadata": {},
     "output_type": "execute_result"
    }
   ],
   "source": [
    "class_labels"
   ]
  },
  {
   "cell_type": "code",
   "execution_count": 26,
   "metadata": {
    "execution": {
     "iopub.execute_input": "2023-12-16T17:06:18.062650Z",
     "iopub.status.busy": "2023-12-16T17:06:18.062254Z",
     "iopub.status.idle": "2023-12-16T17:06:30.596414Z",
     "shell.execute_reply": "2023-12-16T17:06:30.595126Z",
     "shell.execute_reply.started": "2023-12-16T17:06:18.062620Z"
    },
    "trusted": true
   },
   "outputs": [
    {
     "name": "stdout",
     "output_type": "stream",
     "text": [
      "Requirement already satisfied: tensorflowjs in /opt/conda/lib/python3.10/site-packages (4.14.0)\n",
      "Requirement already satisfied: flax>=0.7.2 in /opt/conda/lib/python3.10/site-packages (from tensorflowjs) (0.7.5)\n",
      "Requirement already satisfied: importlib_resources>=5.9.0 in /opt/conda/lib/python3.10/site-packages (from tensorflowjs) (5.13.0)\n",
      "Requirement already satisfied: jax>=0.4.13 in /opt/conda/lib/python3.10/site-packages (from tensorflowjs) (0.4.21)\n",
      "Requirement already satisfied: jaxlib>=0.4.13 in /opt/conda/lib/python3.10/site-packages (from tensorflowjs) (0.4.21+cuda11.cudnn86)\n",
      "Requirement already satisfied: tensorflow<3,>=2.13.0 in /opt/conda/lib/python3.10/site-packages (from tensorflowjs) (2.13.0)\n",
      "Requirement already satisfied: tensorflow-decision-forests>=1.5.0 in /opt/conda/lib/python3.10/site-packages (from tensorflowjs) (1.5.0)\n",
      "Requirement already satisfied: six<2,>=1.16.0 in /opt/conda/lib/python3.10/site-packages (from tensorflowjs) (1.16.0)\n",
      "Requirement already satisfied: tensorflow-hub>=0.14.0 in /opt/conda/lib/python3.10/site-packages (from tensorflowjs) (0.14.0)\n",
      "Collecting packaging~=23.1 (from tensorflowjs)\n",
      "  Obtaining dependency information for packaging~=23.1 from https://files.pythonhosted.org/packages/ec/1a/610693ac4ee14fcdf2d9bf3c493370e4f2ef7ae2e19217d7a237ff42367d/packaging-23.2-py3-none-any.whl.metadata\n",
      "  Downloading packaging-23.2-py3-none-any.whl.metadata (3.2 kB)\n",
      "Requirement already satisfied: numpy>=1.22 in /opt/conda/lib/python3.10/site-packages (from flax>=0.7.2->tensorflowjs) (1.24.3)\n",
      "Requirement already satisfied: msgpack in /opt/conda/lib/python3.10/site-packages (from flax>=0.7.2->tensorflowjs) (1.0.5)\n",
      "Requirement already satisfied: optax in /opt/conda/lib/python3.10/site-packages (from flax>=0.7.2->tensorflowjs) (0.1.7)\n",
      "Requirement already satisfied: orbax-checkpoint in /opt/conda/lib/python3.10/site-packages (from flax>=0.7.2->tensorflowjs) (0.4.7)\n",
      "Requirement already satisfied: tensorstore in /opt/conda/lib/python3.10/site-packages (from flax>=0.7.2->tensorflowjs) (0.1.51)\n",
      "Requirement already satisfied: rich>=11.1 in /opt/conda/lib/python3.10/site-packages (from flax>=0.7.2->tensorflowjs) (13.5.2)\n",
      "Requirement already satisfied: typing-extensions>=4.2 in /opt/conda/lib/python3.10/site-packages (from flax>=0.7.2->tensorflowjs) (4.5.0)\n",
      "Requirement already satisfied: PyYAML>=5.4.1 in /opt/conda/lib/python3.10/site-packages (from flax>=0.7.2->tensorflowjs) (6.0.1)\n",
      "Requirement already satisfied: ml-dtypes>=0.2.0 in /opt/conda/lib/python3.10/site-packages (from jax>=0.4.13->tensorflowjs) (0.3.1)\n",
      "Requirement already satisfied: opt-einsum in /opt/conda/lib/python3.10/site-packages (from jax>=0.4.13->tensorflowjs) (3.3.0)\n",
      "Requirement already satisfied: scipy>=1.9 in /opt/conda/lib/python3.10/site-packages (from jax>=0.4.13->tensorflowjs) (1.11.4)\n",
      "Requirement already satisfied: absl-py>=1.0.0 in /opt/conda/lib/python3.10/site-packages (from tensorflow<3,>=2.13.0->tensorflowjs) (1.4.0)\n",
      "Requirement already satisfied: astunparse>=1.6.0 in /opt/conda/lib/python3.10/site-packages (from tensorflow<3,>=2.13.0->tensorflowjs) (1.6.3)\n",
      "Requirement already satisfied: flatbuffers>=23.1.21 in /opt/conda/lib/python3.10/site-packages (from tensorflow<3,>=2.13.0->tensorflowjs) (23.5.26)\n",
      "Requirement already satisfied: gast<=0.4.0,>=0.2.1 in /opt/conda/lib/python3.10/site-packages (from tensorflow<3,>=2.13.0->tensorflowjs) (0.4.0)\n",
      "Requirement already satisfied: google-pasta>=0.1.1 in /opt/conda/lib/python3.10/site-packages (from tensorflow<3,>=2.13.0->tensorflowjs) (0.2.0)\n",
      "Requirement already satisfied: grpcio<2.0,>=1.24.3 in /opt/conda/lib/python3.10/site-packages (from tensorflow<3,>=2.13.0->tensorflowjs) (1.51.1)\n",
      "Requirement already satisfied: h5py>=2.9.0 in /opt/conda/lib/python3.10/site-packages (from tensorflow<3,>=2.13.0->tensorflowjs) (3.9.0)\n",
      "Requirement already satisfied: keras<2.14,>=2.13.1 in /opt/conda/lib/python3.10/site-packages (from tensorflow<3,>=2.13.0->tensorflowjs) (2.13.1)\n",
      "Requirement already satisfied: libclang>=13.0.0 in /opt/conda/lib/python3.10/site-packages (from tensorflow<3,>=2.13.0->tensorflowjs) (16.0.6)\n",
      "Requirement already satisfied: protobuf!=4.21.0,!=4.21.1,!=4.21.2,!=4.21.3,!=4.21.4,!=4.21.5,<5.0.0dev,>=3.20.3 in /opt/conda/lib/python3.10/site-packages (from tensorflow<3,>=2.13.0->tensorflowjs) (3.20.3)\n",
      "Requirement already satisfied: setuptools in /opt/conda/lib/python3.10/site-packages (from tensorflow<3,>=2.13.0->tensorflowjs) (68.1.2)\n",
      "Requirement already satisfied: tensorboard<2.14,>=2.13 in /opt/conda/lib/python3.10/site-packages (from tensorflow<3,>=2.13.0->tensorflowjs) (2.13.0)\n",
      "Requirement already satisfied: tensorflow-estimator<2.14,>=2.13.0 in /opt/conda/lib/python3.10/site-packages (from tensorflow<3,>=2.13.0->tensorflowjs) (2.13.0)\n",
      "Requirement already satisfied: termcolor>=1.1.0 in /opt/conda/lib/python3.10/site-packages (from tensorflow<3,>=2.13.0->tensorflowjs) (2.3.0)\n",
      "Requirement already satisfied: wrapt>=1.11.0 in /opt/conda/lib/python3.10/site-packages (from tensorflow<3,>=2.13.0->tensorflowjs) (1.15.0)\n",
      "Requirement already satisfied: tensorflow-io-gcs-filesystem>=0.23.1 in /opt/conda/lib/python3.10/site-packages (from tensorflow<3,>=2.13.0->tensorflowjs) (0.34.0)\n",
      "Requirement already satisfied: pandas in /opt/conda/lib/python3.10/site-packages (from tensorflow-decision-forests>=1.5.0->tensorflowjs) (2.0.3)\n",
      "Requirement already satisfied: wheel in /opt/conda/lib/python3.10/site-packages (from tensorflow-decision-forests>=1.5.0->tensorflowjs) (0.41.2)\n",
      "Requirement already satisfied: wurlitzer in /opt/conda/lib/python3.10/site-packages (from tensorflow-decision-forests>=1.5.0->tensorflowjs) (3.0.3)\n",
      "Requirement already satisfied: markdown-it-py>=2.2.0 in /opt/conda/lib/python3.10/site-packages (from rich>=11.1->flax>=0.7.2->tensorflowjs) (3.0.0)\n",
      "Requirement already satisfied: pygments<3.0.0,>=2.13.0 in /opt/conda/lib/python3.10/site-packages (from rich>=11.1->flax>=0.7.2->tensorflowjs) (2.16.1)\n",
      "Requirement already satisfied: google-auth<3,>=1.6.3 in /opt/conda/lib/python3.10/site-packages (from tensorboard<2.14,>=2.13->tensorflow<3,>=2.13.0->tensorflowjs) (2.22.0)\n",
      "Requirement already satisfied: google-auth-oauthlib<1.1,>=0.5 in /opt/conda/lib/python3.10/site-packages (from tensorboard<2.14,>=2.13->tensorflow<3,>=2.13.0->tensorflowjs) (1.0.0)\n",
      "Requirement already satisfied: markdown>=2.6.8 in /opt/conda/lib/python3.10/site-packages (from tensorboard<2.14,>=2.13->tensorflow<3,>=2.13.0->tensorflowjs) (3.4.4)\n",
      "Requirement already satisfied: requests<3,>=2.21.0 in /opt/conda/lib/python3.10/site-packages (from tensorboard<2.14,>=2.13->tensorflow<3,>=2.13.0->tensorflowjs) (2.31.0)\n",
      "Requirement already satisfied: tensorboard-data-server<0.8.0,>=0.7.0 in /opt/conda/lib/python3.10/site-packages (from tensorboard<2.14,>=2.13->tensorflow<3,>=2.13.0->tensorflowjs) (0.7.1)\n",
      "Requirement already satisfied: werkzeug>=1.0.1 in /opt/conda/lib/python3.10/site-packages (from tensorboard<2.14,>=2.13->tensorflow<3,>=2.13.0->tensorflowjs) (3.0.1)\n",
      "Requirement already satisfied: chex>=0.1.5 in /opt/conda/lib/python3.10/site-packages (from optax->flax>=0.7.2->tensorflowjs) (0.1.85)\n",
      "Requirement already satisfied: etils[epath,epy] in /opt/conda/lib/python3.10/site-packages (from orbax-checkpoint->flax>=0.7.2->tensorflowjs) (1.4.1)\n",
      "Requirement already satisfied: nest_asyncio in /opt/conda/lib/python3.10/site-packages (from orbax-checkpoint->flax>=0.7.2->tensorflowjs) (1.5.6)\n",
      "Requirement already satisfied: python-dateutil>=2.8.2 in /opt/conda/lib/python3.10/site-packages (from pandas->tensorflow-decision-forests>=1.5.0->tensorflowjs) (2.8.2)\n",
      "Requirement already satisfied: pytz>=2020.1 in /opt/conda/lib/python3.10/site-packages (from pandas->tensorflow-decision-forests>=1.5.0->tensorflowjs) (2023.3)\n",
      "Requirement already satisfied: tzdata>=2022.1 in /opt/conda/lib/python3.10/site-packages (from pandas->tensorflow-decision-forests>=1.5.0->tensorflowjs) (2023.3)\n",
      "Requirement already satisfied: toolz>=0.9.0 in /opt/conda/lib/python3.10/site-packages (from chex>=0.1.5->optax->flax>=0.7.2->tensorflowjs) (0.12.0)\n",
      "Requirement already satisfied: cachetools<6.0,>=2.0.0 in /opt/conda/lib/python3.10/site-packages (from google-auth<3,>=1.6.3->tensorboard<2.14,>=2.13->tensorflow<3,>=2.13.0->tensorflowjs) (4.2.4)\n",
      "Requirement already satisfied: pyasn1-modules>=0.2.1 in /opt/conda/lib/python3.10/site-packages (from google-auth<3,>=1.6.3->tensorboard<2.14,>=2.13->tensorflow<3,>=2.13.0->tensorflowjs) (0.2.7)\n",
      "Requirement already satisfied: rsa<5,>=3.1.4 in /opt/conda/lib/python3.10/site-packages (from google-auth<3,>=1.6.3->tensorboard<2.14,>=2.13->tensorflow<3,>=2.13.0->tensorflowjs) (4.9)\n",
      "Requirement already satisfied: urllib3<2.0 in /opt/conda/lib/python3.10/site-packages (from google-auth<3,>=1.6.3->tensorboard<2.14,>=2.13->tensorflow<3,>=2.13.0->tensorflowjs) (1.26.15)\n",
      "Requirement already satisfied: requests-oauthlib>=0.7.0 in /opt/conda/lib/python3.10/site-packages (from google-auth-oauthlib<1.1,>=0.5->tensorboard<2.14,>=2.13->tensorflow<3,>=2.13.0->tensorflowjs) (1.3.1)\n",
      "Requirement already satisfied: mdurl~=0.1 in /opt/conda/lib/python3.10/site-packages (from markdown-it-py>=2.2.0->rich>=11.1->flax>=0.7.2->tensorflowjs) (0.1.0)\n",
      "Requirement already satisfied: charset-normalizer<4,>=2 in /opt/conda/lib/python3.10/site-packages (from requests<3,>=2.21.0->tensorboard<2.14,>=2.13->tensorflow<3,>=2.13.0->tensorflowjs) (3.2.0)\n",
      "Requirement already satisfied: idna<4,>=2.5 in /opt/conda/lib/python3.10/site-packages (from requests<3,>=2.21.0->tensorboard<2.14,>=2.13->tensorflow<3,>=2.13.0->tensorflowjs) (3.4)\n",
      "Requirement already satisfied: certifi>=2017.4.17 in /opt/conda/lib/python3.10/site-packages (from requests<3,>=2.21.0->tensorboard<2.14,>=2.13->tensorflow<3,>=2.13.0->tensorflowjs) (2023.11.17)\n",
      "Requirement already satisfied: MarkupSafe>=2.1.1 in /opt/conda/lib/python3.10/site-packages (from werkzeug>=1.0.1->tensorboard<2.14,>=2.13->tensorflow<3,>=2.13.0->tensorflowjs) (2.1.3)\n",
      "Requirement already satisfied: zipp in /opt/conda/lib/python3.10/site-packages (from etils[epath,epy]->orbax-checkpoint->flax>=0.7.2->tensorflowjs) (3.16.2)\n",
      "Requirement already satisfied: pyasn1<0.5.0,>=0.4.6 in /opt/conda/lib/python3.10/site-packages (from pyasn1-modules>=0.2.1->google-auth<3,>=1.6.3->tensorboard<2.14,>=2.13->tensorflow<3,>=2.13.0->tensorflowjs) (0.4.8)\n",
      "Requirement already satisfied: oauthlib>=3.0.0 in /opt/conda/lib/python3.10/site-packages (from requests-oauthlib>=0.7.0->google-auth-oauthlib<1.1,>=0.5->tensorboard<2.14,>=2.13->tensorflow<3,>=2.13.0->tensorflowjs) (3.2.2)\n",
      "Downloading packaging-23.2-py3-none-any.whl (53 kB)\n",
      "\u001b[2K   \u001b[90m━━━━━━━━━━━━━━━━━━━━━━━━━━━━━━━━━━━━━━━━\u001b[0m \u001b[32m53.0/53.0 kB\u001b[0m \u001b[31m5.8 MB/s\u001b[0m eta \u001b[36m0:00:00\u001b[0m\n",
      "\u001b[?25hInstalling collected packages: packaging\n",
      "  Attempting uninstall: packaging\n",
      "    Found existing installation: packaging 21.3\n",
      "    Uninstalling packaging-21.3:\n",
      "      Successfully uninstalled packaging-21.3\n",
      "\u001b[31mERROR: pip's dependency resolver does not currently take into account all the packages that are installed. This behaviour is the source of the following dependency conflicts.\n",
      "cudf 23.8.0 requires cupy-cuda11x>=12.0.0, which is not installed.\n",
      "cuml 23.8.0 requires cupy-cuda11x>=12.0.0, which is not installed.\n",
      "dask-cudf 23.8.0 requires cupy-cuda11x>=12.0.0, which is not installed.\n",
      "cudf 23.8.0 requires pandas<1.6.0dev0,>=1.3, but you have pandas 2.0.3 which is incompatible.\n",
      "cudf 23.8.0 requires protobuf<5,>=4.21, but you have protobuf 3.20.3 which is incompatible.\n",
      "cuml 23.8.0 requires dask==2023.7.1, but you have dask 2023.12.0 which is incompatible.\n",
      "cuml 23.8.0 requires distributed==2023.7.1, but you have distributed 2023.12.0 which is incompatible.\n",
      "dask-cuda 23.8.0 requires dask==2023.7.1, but you have dask 2023.12.0 which is incompatible.\n",
      "dask-cuda 23.8.0 requires distributed==2023.7.1, but you have distributed 2023.12.0 which is incompatible.\n",
      "dask-cuda 23.8.0 requires pandas<1.6.0dev0,>=1.3, but you have pandas 2.0.3 which is incompatible.\n",
      "dask-cudf 23.8.0 requires dask==2023.7.1, but you have dask 2023.12.0 which is incompatible.\n",
      "dask-cudf 23.8.0 requires distributed==2023.7.1, but you have distributed 2023.12.0 which is incompatible.\n",
      "dask-cudf 23.8.0 requires pandas<1.6.0dev0,>=1.3, but you have pandas 2.0.3 which is incompatible.\n",
      "google-cloud-bigquery 2.34.4 requires packaging<22.0dev,>=14.3, but you have packaging 23.2 which is incompatible.\n",
      "jupyterlab 4.0.5 requires jupyter-lsp>=2.0.0, but you have jupyter-lsp 1.5.1 which is incompatible.\n",
      "jupyterlab-lsp 5.0.1 requires jupyter-lsp>=2.0.0, but you have jupyter-lsp 1.5.1 which is incompatible.\n",
      "jupyterlab-lsp 5.0.1 requires jupyterlab<5.0.0a0,>=4.0.6, but you have jupyterlab 4.0.5 which is incompatible.\n",
      "libpysal 4.9.2 requires shapely>=2.0.1, but you have shapely 1.8.5.post1 which is incompatible.\n",
      "momepy 0.7.0 requires shapely>=2, but you have shapely 1.8.5.post1 which is incompatible.\n",
      "pymc3 3.11.5 requires numpy<1.22.2,>=1.15.0, but you have numpy 1.24.3 which is incompatible.\n",
      "pymc3 3.11.5 requires scipy<1.8.0,>=1.7.3, but you have scipy 1.11.4 which is incompatible.\n",
      "raft-dask 23.8.0 requires dask==2023.7.1, but you have dask 2023.12.0 which is incompatible.\n",
      "raft-dask 23.8.0 requires distributed==2023.7.1, but you have distributed 2023.12.0 which is incompatible.\n",
      "spopt 0.6.0 requires shapely>=2.0.1, but you have shapely 1.8.5.post1 which is incompatible.\n",
      "ydata-profiling 4.5.1 requires numpy<1.24,>=1.16.0, but you have numpy 1.24.3 which is incompatible.\u001b[0m\u001b[31m\n",
      "\u001b[0mSuccessfully installed packaging-23.2\n",
      "Note: you may need to restart the kernel to use updated packages.\n"
     ]
    }
   ],
   "source": [
    "pip install tensorflowjs"
   ]
  },
  {
   "cell_type": "code",
   "execution_count": 33,
   "metadata": {
    "execution": {
     "iopub.execute_input": "2023-12-16T17:11:15.172241Z",
     "iopub.status.busy": "2023-12-16T17:11:15.171859Z",
     "iopub.status.idle": "2023-12-16T17:11:18.008474Z",
     "shell.execute_reply": "2023-12-16T17:11:18.007620Z",
     "shell.execute_reply.started": "2023-12-16T17:11:15.172208Z"
    },
    "trusted": true
   },
   "outputs": [],
   "source": [
    "import tensorflowjs as tfjs\n",
    "tfjs.converters.save_keras_model(model,'/kaggle/working/modeljson')"
   ]
  },
  {
   "cell_type": "code",
   "execution_count": 34,
   "metadata": {
    "execution": {
     "iopub.execute_input": "2023-12-16T17:18:35.333597Z",
     "iopub.status.busy": "2023-12-16T17:18:35.332508Z",
     "iopub.status.idle": "2023-12-16T17:18:35.341210Z",
     "shell.execute_reply": "2023-12-16T17:18:35.340215Z",
     "shell.execute_reply.started": "2023-12-16T17:18:35.333555Z"
    },
    "trusted": true
   },
   "outputs": [
    {
     "data": {
      "text/html": [
       "<a href='densenetjsonv3.zip' target='_blank'>densenetjsonv3.zip</a><br>"
      ],
      "text/plain": [
       "/kaggle/working/densenetjsonv3.zip"
      ]
     },
     "execution_count": 34,
     "metadata": {},
     "output_type": "execute_result"
    }
   ],
   "source": [
    "import zipfile\n",
    "with zipfile.ZipFile('densenetjsonv3.zip', 'w', zipfile.ZIP_DEFLATED) as zipf:\n",
    "    zipf.write('/kaggle/working/modeljson', '/kaggle/working/modeljson')\n",
    "FileLink('densenetjsonv3.zip')"
   ]
  },
  {
   "cell_type": "code",
   "execution_count": 35,
   "metadata": {
    "execution": {
     "iopub.execute_input": "2023-12-16T17:20:33.992732Z",
     "iopub.status.busy": "2023-12-16T17:20:33.992346Z",
     "iopub.status.idle": "2023-12-16T17:20:39.201576Z",
     "shell.execute_reply": "2023-12-16T17:20:39.200464Z",
     "shell.execute_reply.started": "2023-12-16T17:20:33.992702Z"
    },
    "trusted": true
   },
   "outputs": [
    {
     "name": "stdout",
     "output_type": "stream",
     "text": [
      "  adding: kaggle/working/modeljson/ (stored 0%)\n",
      "  adding: kaggle/working/modeljson/group1-shard13of20.bin (deflated 6%)\n",
      "  adding: kaggle/working/modeljson/group1-shard15of20.bin (deflated 6%)\n",
      "  adding: kaggle/working/modeljson/group1-shard7of20.bin (deflated 6%)\n",
      "  adding: kaggle/working/modeljson/group1-shard2of20.bin (deflated 6%)\n",
      "  adding: kaggle/working/modeljson/group1-shard17of20.bin (deflated 9%)\n",
      "  adding: kaggle/working/modeljson/group1-shard19of20.bin (deflated 7%)\n",
      "  adding: kaggle/working/modeljson/group1-shard8of20.bin (deflated 6%)\n",
      "  adding: kaggle/working/modeljson/group1-shard11of20.bin (deflated 6%)\n",
      "  adding: kaggle/working/modeljson/group1-shard12of20.bin (deflated 6%)\n",
      "  adding: kaggle/working/modeljson/group1-shard18of20.bin (deflated 6%)\n",
      "  adding: kaggle/working/modeljson/group1-shard10of20.bin (deflated 6%)\n",
      "  adding: kaggle/working/modeljson/group1-shard5of20.bin (deflated 6%)\n",
      "  adding: kaggle/working/modeljson/group1-shard1of20.bin (deflated 6%)\n",
      "  adding: kaggle/working/modeljson/group1-shard3of20.bin (deflated 6%)\n",
      "  adding: kaggle/working/modeljson/group1-shard4of20.bin (deflated 6%)\n",
      "  adding: kaggle/working/modeljson/group1-shard6of20.bin (deflated 6%)\n",
      "  adding: kaggle/working/modeljson/group1-shard16of20.bin (deflated 8%)\n",
      "  adding: kaggle/working/modeljson/group1-shard14of20.bin (deflated 6%)\n",
      "  adding: kaggle/working/modeljson/model.json (deflated 97%)\n",
      "  adding: kaggle/working/modeljson/group1-shard20of20.bin (deflated 7%)\n",
      "  adding: kaggle/working/modeljson/group1-shard9of20.bin (deflated 6%)\n"
     ]
    }
   ],
   "source": [
    "!zip -r densemodeljson.zip /kaggle/working/modeljson"
   ]
  },
  {
   "cell_type": "code",
   "execution_count": 36,
   "metadata": {
    "execution": {
     "iopub.execute_input": "2023-12-16T17:22:44.333260Z",
     "iopub.status.busy": "2023-12-16T17:22:44.332865Z",
     "iopub.status.idle": "2023-12-16T17:22:44.340801Z",
     "shell.execute_reply": "2023-12-16T17:22:44.339842Z",
     "shell.execute_reply.started": "2023-12-16T17:22:44.333229Z"
    },
    "trusted": true
   },
   "outputs": [
    {
     "data": {
      "text/html": [
       "<a href='densemodeljson.zip' target='_blank'>densemodeljson.zip</a><br>"
      ],
      "text/plain": [
       "/kaggle/working/densemodeljson.zip"
      ]
     },
     "execution_count": 36,
     "metadata": {},
     "output_type": "execute_result"
    }
   ],
   "source": [
    "from IPython.display import FileLink\n",
    "FileLink(r'densemodeljson.zip')"
   ]
  },
  {
   "cell_type": "code",
   "execution_count": null,
   "metadata": {},
   "outputs": [],
   "source": []
  }
 ],
 "metadata": {
  "kaggle": {
   "accelerator": "gpu",
   "dataSources": [
    {
     "datasetId": 4193796,
     "sourceId": 7240803,
     "sourceType": "datasetVersion"
    }
   ],
   "dockerImageVersionId": 30627,
   "isGpuEnabled": true,
   "isInternetEnabled": true,
   "language": "python",
   "sourceType": "notebook"
  },
  "kernelspec": {
   "display_name": "Python 3",
   "language": "python",
   "name": "python3"
  },
  "language_info": {
   "codemirror_mode": {
    "name": "ipython",
    "version": 3
   },
   "file_extension": ".py",
   "mimetype": "text/x-python",
   "name": "python",
   "nbconvert_exporter": "python",
   "pygments_lexer": "ipython3",
   "version": "3.10.12"
  }
 },
 "nbformat": 4,
 "nbformat_minor": 4
}
